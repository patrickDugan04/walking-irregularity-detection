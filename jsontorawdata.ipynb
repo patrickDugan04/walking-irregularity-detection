{
  "nbformat": 4,
  "nbformat_minor": 0,
  "metadata": {
    "colab": {
      "name": "JsonToRawData.ipynb",
      "provenance": [],
      "collapsed_sections": [],
      "include_colab_link": true
    },
    "kernelspec": {
      "name": "python3",
      "display_name": "Python 3"
    },
    "language_info": {
      "name": "python"
    }
  },
  "cells": [
    {
      "cell_type": "markdown",
      "metadata": {
        "id": "view-in-github",
        "colab_type": "text"
      },
      "source": [
        "<a href=\"https://colab.research.google.com/github/nrush23/Machine-Learning-2022/blob/main/JsonToRawData.ipynb\" target=\"_parent\"><img src=\"https://colab.research.google.com/assets/colab-badge.svg\" alt=\"Open In Colab\"/></a>"
      ]
    },
    {
      "cell_type": "code",
      "source": [
        "import os\n",
        "from os.path import exists, join, basename, splitext\n",
        "import numpy as np\n",
        "import pandas as pd\n",
        "import json\n"
      ],
      "metadata": {
        "id": "jF_7rUMEiQ--"
      },
      "execution_count": null,
      "outputs": []
    },
    {
      "cell_type": "code",
      "source": [
        "from google.colab import drive\n",
        "\n",
        "drive.mount('/content/drive')\n",
        "\n",
        "working_dir = \"drive/MyDrive/T9_Shared_Drive_2022/OpenPose_Output/SaanviFiles\"\n",
        "os.chdir(working_dir)"
      ],
      "metadata": {
        "colab": {
          "base_uri": "https://localhost:8080/"
        },
        "id": "Ivtc0-lC3RNE",
        "outputId": "1753dc39-ec28-460c-9e98-563363a7786b"
      },
      "execution_count": null,
      "outputs": [
        {
          "output_type": "stream",
          "name": "stdout",
          "text": [
            "Mounted at /content/drive\n"
          ]
        }
      ]
    },
    {
      "cell_type": "code",
      "source": [
        "def numOfFrames(i):\n",
        "  if i == NUM_OF_VIDEOS - 1:\n",
        "    return len(FOLDER) - FOLDER.index(videoList[i] + \"_000000000000\" + \"_keypoints.json\")\n",
        "  return FOLDER.index(videoList[i+1] + \"_000000000000\" + \"_keypoints.json\") - FOLDER.index(videoList[i] + \"_000000000000\" + \"_keypoints.json\")"
      ],
      "metadata": {
        "id": "kGXUZAPMpxve"
      },
      "execution_count": null,
      "outputs": []
    },
    {
      "cell_type": "code",
      "source": [
        "def addingStartingIndices():\n",
        "  NUM_OF_PIECES = 0\n",
        "  for i in range(NUM_OF_VIDEOS):\n",
        "    frames = numOfFrames(i)\n",
        "    starting = FOLDER.index(videoList[i] + \"_000000000000\" + \"_keypoints.json\")\n",
        "    current = starting\n",
        "    while current + NUM_FRAMES <= starting + frames:\n",
        "      startingIndices.append(current)\n",
        "      #print(current)\n",
        "      current += NUM_FRAMES\n",
        "      NUM_OF_PIECES += 1\n",
        "  #print(startingIndices)\n",
        "  return NUM_OF_PIECES"
      ],
      "metadata": {
        "id": "2OWIJuUUpyJO"
      },
      "execution_count": null,
      "outputs": []
    },
    {
      "cell_type": "code",
      "execution_count": null,
      "metadata": {
        "id": "a6h-j87ygO4z"
      },
      "outputs": [],
      "source": [
        "json_dir = \"Saanvi4Frames\"\n",
        "NUM_FRAMES = 30 # number of frames per video clip (done to maximize # of data points)\n",
        "# this code was run for 30, 50, and 100 for each set of data\n",
        "# it turned out that 30 ended up working the best\n",
        "videoList = [\"4_1\", \"4_2\", \"4_3\"] # list of video names, not including stuff like .mov or .mp4\n",
        "NUM_OF_VIDEOS = len(videoList)\n",
        "videoList.sort()\n",
        "\n",
        "\n",
        "\n",
        "# for each video what person is the one we look at\n",
        "POI = [0] * 26\n",
        "\n",
        "\n",
        "\n",
        "\n",
        "  \n",
        "\n",
        "# loop throguh all jsons in a video\n",
        "# need to get a list of jsons\n",
        "# sort them and find first indexis ( ake a list of those)\n",
        "# for each video we take first 100 frames\n",
        "# have to fix data for those frames\n",
        "# Shove them in an arrays"
      ]
    },
    {
      "cell_type": "code",
      "source": [
        "# OpenPose, for whatever reason, seems to randomly flip some frames such that\n",
        "# the x and y coordinates are swapped. This method checks if the frame coordinates\n",
        "# are wider than taller, and if so, assumes that the frame was flipped, and flips it back.\n",
        "def fixData(coordsListX, coordsListY):\n",
        "  xMax = max(coordsListX)\n",
        "  xMin = min(coordsListX)\n",
        "  yMax = max(coordsListY)\n",
        "  yMin = min(coordsListY)\n",
        "  \n",
        "  if xMax - xMin > yMax - yMin:\n",
        "    return coordsListY, coordsListX # flip the two\n",
        "  else:\n",
        "    return coordsListX, coordsListY\n",
        "  \n",
        "\n",
        "\n",
        "# takes in the keypoint you want and returns the x-index in the json file for the ccodinate pair\n",
        "def getIndex(keyPoint):\n",
        "  return (keyPoint - 1) * 3\n",
        "\n",
        "\n",
        "# takes in a json file name\n",
        "# reads it\n",
        "# fixes what needs fixing\n",
        "# outputs a array with its relevent info\n",
        "# videoIndex = int that says what vid it is (needed for POI)\n",
        "# jsonFile = string name of the json file\n",
        "def formatJsonData(jsonFile):\n",
        "\n",
        "  # The dictionary with the data in it\n",
        "  with open(json_dir + '/' + jsonFile, 'r') as f:\n",
        "    dataDictionary = json.load(f)\n",
        "\n",
        "  # print(jsonFile)\n",
        "  k = dataDictionary['people']\n",
        "  if len(k) <= 0:\n",
        "    return [[0]*25] * 2\n",
        "\n",
        "  dataList = k[0]['pose_keypoints_2d']\n",
        "  coordsListX = []\n",
        "  coordsListY = []\n",
        "  Kpoints = []\n",
        "  \n",
        "  for i in range(1,26):\n",
        "    x = getIndex(i)\n",
        "    y = x + 1\n",
        "    coordsListX.append(dataList[x])\n",
        "    coordsListY.append(dataList[y])\n",
        "  \n",
        "  X, Y = fixData(coordsListX, coordsListY) # to get it in the right order\n",
        "  Kpoints.append(np.array(X))\n",
        "  Kpoints.append(np.array(Y))\n",
        "\n",
        "  \n",
        "  return Kpoints\n",
        "  \n",
        "  \n",
        "  \n",
        "\n",
        "\n",
        "\n",
        "  "
      ],
      "metadata": {
        "id": "YkFzkJLxgzxz"
      },
      "execution_count": null,
      "outputs": []
    },
    {
      "cell_type": "code",
      "source": [
        "# takes in list of json indecies and then processes those into a 2d array A[frames][info]\n",
        "# videoIndex = int that says what vid it is (needed for POI)\n",
        "# jsonStartingPos = at what json in the full list does the vid start (refer to loopVids() to understand)\n",
        "def proccessVideo(jsonStartingPos):\n",
        "  jsonFileList = FOLDER[jsonStartingPos : jsonStartingPos + NUM_FRAMES]\n",
        "  Frames_data = []\n",
        "  for jsonFile in jsonFileList:\n",
        "    # print(jsonFile)\n",
        "    Kpoints = np.array(formatJsonData(jsonFile))\n",
        "    Frames_data.append(Kpoints)\n",
        "  \n",
        "  return Frames_data"
      ],
      "metadata": {
        "id": "yHlhYE6Eh4_w"
      },
      "execution_count": null,
      "outputs": []
    },
    {
      "cell_type": "code",
      "source": [
        "# takes in name of folder of jsons (for all vids)\n",
        "# returns a 4d data[vid][frames][x/y (0,1)][key_point] (3th dimension is either x or y)\n",
        "\n",
        "# list of video names\n",
        "data = [] # is the final 4d array \n",
        "startingIndices = []\n",
        "\n",
        "# open folder\n",
        "# DRIVE MUST ALREADY BE MOUNTED\n",
        "FOLDER = os.listdir(json_dir) # the path will be different per person\n",
        "FOLDER.sort()\n",
        "\n",
        "NUM_OF_PIECES = addingStartingIndices()\n",
        "\n",
        "#print(startingIndices)\n",
        "\n",
        "# Now, iterate through the videos\n",
        "for i in range(NUM_OF_PIECES):\n",
        "  # PATH WILL BE DIFFERENT - make sure you change it, also should change Json_list\n",
        "  vid_data = np.array(proccessVideo(startingIndices[i]))\n",
        "  data.append(vid_data)\n",
        "\n",
        "#print(data[0][0])\n",
        "print(len(data))\n",
        "print(len(data[0]))\n",
        "print(len(data[1]))\n",
        "print(data[0][0])\n",
        "np.save('Saanvi4_30F', data) # saves file with all the data to drive"
      ],
      "metadata": {
        "id": "UtO-6WDIh3yb",
        "colab": {
          "base_uri": "https://localhost:8080/"
        },
        "outputId": "2e4d03a8-6a8e-4821-9e01-00ddb85196f6"
      },
      "execution_count": null,
      "outputs": [
        {
          "output_type": "stream",
          "name": "stdout",
          "text": [
            "39\n",
            "30\n",
            "30\n",
            "[[ 521.382  506.868  612.675  647.919  718.571  415.487  389.106  347.799\n",
            "   524.442  571.498  595.026  621.544  471.414  468.442  447.915  536.211\n",
            "   500.8    559.748  471.395  433.132  430.148  447.917  645.14   650.931\n",
            "   603.855]\n",
            " [ 692.159  762.863  765.813  854.01   901.11   759.841  842.296  903.959\n",
            "   983.504  974.728 1121.92  1301.38   992.355 1095.29  1286.8    671.594\n",
            "   671.556  695.008  671.578 1377.85  1374.98  1304.43  1372.1   1357.34\n",
            "  1313.17 ]]\n"
          ]
        }
      ]
    }
  ]
}