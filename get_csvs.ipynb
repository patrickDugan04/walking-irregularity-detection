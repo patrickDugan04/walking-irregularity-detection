{
  "cells": [
    {
      "cell_type": "markdown",
      "metadata": {
        "id": "view-in-github",
        "colab_type": "text"
      },
      "source": [
        "<a href=\"https://colab.research.google.com/github/nrush23/Machine-Learning-2022/blob/main/Get_CSVs.ipynb\" target=\"_parent\"><img src=\"https://colab.research.google.com/assets/colab-badge.svg\" alt=\"Open In Colab\"/></a>"
      ]
    },
    {
      "cell_type": "markdown",
      "source": [
        "<h1>Run these methods to get a csv file with the data points</h1>\n",
        "\n"
      ],
      "metadata": {
        "id": "7_3Q5GYeRB1m"
      }
    },
    {
      "cell_type": "code",
      "source": [
        "#Run this cell to unzip your folder. Replace output.zip with (yourFolderName).zip\n",
        "!unzip /content/output.zip -d /content/"
      ],
      "metadata": {
        "id": "ywKRJJToRUir"
      },
      "execution_count": null,
      "outputs": []
    },
    {
      "cell_type": "code",
      "source": [
        "import os\n",
        "from os.path import exists, join, basename, splitext\n",
        "import json\n",
        "import matplotlib.pyplot as plt\n",
        "from google.colab import files\n",
        "import csv\n",
        "\n",
        "\n",
        "data = [];\n",
        "#Function that gets a specific file's data and puts them into the data array\n",
        "def sortFile(fileName):\n",
        "  rawFiles = os.listdir('/content/OpenPose Sample Output')\n",
        "  rawFiles.sort()\n",
        "  for file in rawFiles:\n",
        "    if fileName in file:\n",
        "      openFile = open('/content/OpenPose Sample Output/' + file)\n",
        "      temp = json.load(openFile)\n",
        "      if len(temp['people']) == 0:\n",
        "        temp = {'version': 1.3, 'people':[{'person_id': [-1], 'pose_keypoints_2d':[0]*75}]}\n",
        "      data.append(temp)\n",
        "      openFile.close()\n",
        "\n",
        "#the function that actually lets us retrieve our coordinate values\n",
        "#I realized the pattern for accessing a specific keypoint's coordinate is\n",
        "#array position = ((keypoint - 1) * 3) + (0 or 1 depending on if it's x or y)\n",
        "def getCoord(frame, keypoint, coord):\n",
        "  if coord == 'x':\n",
        "    coord = 0\n",
        "  else:\n",
        "    coord = 1\n",
        "  return data[frame]['people'][0]['pose_keypoints_2d'][(keypoint - 1) * 3 + coord]\n",
        "\n",
        "#function that returns the csv of your video files\n",
        "def getCSV(fileName):\n",
        "  sortFile(fileName)\n",
        "  file = open('/content/' + fileName + '.csv', 'w')\n",
        "  writer = csv.writer(file)\n",
        "  row = ['Frame']\n",
        "  for num in range(0,26):\n",
        "    row.append('x' + str(num))\n",
        "    row.append('y' + str(num))\n",
        "  writer.writerow(row)\n",
        "  for x in range (0, len(data)):\n",
        "    row = [x]\n",
        "    for kp in range (0,26):\n",
        "      row.append(getCoord(x,kp,'x'))\n",
        "      row.append(getCoord(x,kp,'y'))\n",
        "    writer.writerow(row)\n",
        "  file.close()\n",
        "\n",
        "  \n",
        "\n",
        "\n"
      ],
      "metadata": {
        "id": "lqa9QJngSR0F"
      },
      "execution_count": 6,
      "outputs": []
    },
    {
      "cell_type": "markdown",
      "source": [
        "<h1>Put the name of your files in the files array and then run the cell below</h1>"
      ],
      "metadata": {
        "id": "l0_vVGq-HbZC"
      }
    },
    {
      "cell_type": "code",
      "source": [
        "files = ['Jai1', 'Jai2']\n",
        "\n",
        "for file in files:\n",
        "  data.clear()\n",
        "  getCSV(file)"
      ],
      "metadata": {
        "id": "Pgndg6efYs_a"
      },
      "execution_count": 8,
      "outputs": []
    }
  ],
  "metadata": {
    "colab": {
      "collapsed_sections": [],
      "name": "Get_CSVs.ipynb",
      "provenance": [],
      "include_colab_link": true
    },
    "kernelspec": {
      "display_name": "Python 3",
      "name": "python3"
    },
    "gpuClass": "standard"
  },
  "nbformat": 4,
  "nbformat_minor": 0
}