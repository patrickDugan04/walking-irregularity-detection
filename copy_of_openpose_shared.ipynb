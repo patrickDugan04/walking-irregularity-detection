{
  "nbformat": 4,
  "nbformat_minor": 0,
  "metadata": {
    "colab": {
      "name": "Copy of OpenPose - Shared.ipynb",
      "provenance": [],
      "include_colab_link": true
    },
    "kernelspec": {
      "name": "python3",
      "display_name": "Python 3"
    },
    "language_info": {
      "name": "python"
    },
    "gpuClass": "standard",
    "accelerator": "GPU"
  },
  "cells": [
    {
      "cell_type": "markdown",
      "metadata": {
        "id": "view-in-github",
        "colab_type": "text"
      },
      "source": [
        "<a href=\"https://colab.research.google.com/github/nrush23/Machine-Learning-2022/blob/main/Copy_of_OpenPose_Shared.ipynb\" target=\"_parent\"><img src=\"https://colab.research.google.com/assets/colab-badge.svg\" alt=\"Open In Colab\"/></a>"
      ]
    },
    {
      "cell_type": "code",
      "execution_count": null,
      "metadata": {
        "id": "vTckoXwIVy7E"
      },
      "outputs": [],
      "source": [
        "import os\n",
        "from os.path import exists, join, basename, splitext\n",
        "\n",
        "#Openpose Installation\n",
        "git_repo_url = 'https://github.com/CMU-Perceptual-Computing-Lab/openpose.git'\n",
        "project_name = splitext(basename(git_repo_url))[0]\n",
        "if not exists(project_name):\n",
        "  # see: https://github.com/CMU-Perceptual-Computing-Lab/openpose/issues/949\n",
        "  # install new CMake becaue of CUDA10\n",
        "  !wget -q https://cmake.org/files/v3.13/cmake-3.13.0-Linux-x86_64.tar.gz\n",
        "  !tar xfz cmake-3.13.0-Linux-x86_64.tar.gz --strip-components=1 -C /usr/local\n",
        "  # clone openpose\n",
        "  !git clone -q --depth 1 $git_repo_url\n",
        "  !sed -i 's/execute_process(COMMAND git checkout master WORKING_DIRECTORY ${CMAKE_SOURCE_DIR}\\/3rdparty\\/caffe)/execute_process(COMMAND git checkout f019d0dfe86f49d1140961f8c7dec22130c83154 WORKING_DIRECTORY ${CMAKE_SOURCE_DIR}\\/3rdparty\\/caffe)/g' openpose/CMakeLists.txt\n",
        "  # install system dependencies\n",
        "  !apt-get -qq install -y libatlas-base-dev libprotobuf-dev libleveldb-dev libsnappy-dev libhdf5-serial-dev protobuf-compiler libgflags-dev libgoogle-glog-dev liblmdb-dev opencl-headers ocl-icd-opencl-dev libviennacl-dev\n",
        "  # install python dependencies\n",
        "  # !pip install -q youtube-dl\n",
        "  # build openpose\n",
        "  !cd openpose && rm -rf build || true && mkdir build && cd build && cmake .. && make -j`nproc`\n",
        "  "
      ]
    },
    {
      "cell_type": "code",
      "source": [
        "# Run openpose\n",
        "### WARNING: command will output an unnecessarily processed video. (idk how to stop that while still having openpose work)\n",
        "## Run following in the same folder as the openpose folder\n",
        "## Input folder should also be in the same folder. Output should be in the same folder as well (Output folder MUST be created by User)\n",
        "## Input should be divided into \"Healthy\" and \"Unhealthy\" folders. Output should have the same structure.\n",
        "## Running openpose on a folder twice or more will result in undefined behavior because result is unknown when running openpose on the same video twice."
      ],
      "metadata": {
        "id": "a0cX0YblWH01"
      },
      "execution_count": null,
      "outputs": []
    },
    {
      "cell_type": "code",
      "source": [
        "for root, dirs, files in os.walk(\"Input/Healthy\"):\n",
        "   for name in files:\n",
        "      video_path = os.path.join(root, name) # Example: Healthy/video.mp4\n",
        "      output_folder = video_path.split(\"/\")[1] # Healthy or Unhealthy\n",
        "      !cd openpose && ./build/examples/openpose/openpose.bin --video ../$video_path --write_json ../Output/$output_folder --display 0  --write_video ../openpose.avi\n",
        "\n",
        "for root, dirs, files in os.walk(\"Input/Unhealthy\"):\n",
        "   for name in files:\n",
        "      video_path = os.path.join(root, name) # Example: Unhealthy/video.mp4\n",
        "      output_folder = video_path.split(\"/\")[1] # Healthy or Unhealthy\n",
        "      !cd openpose && ./build/examples/openpose/openpose.bin --video ../$video_path --write_json ../Output/$output_folder --display 0  --write_video ../openpose.avi"
      ],
      "metadata": {
        "id": "nOyYKdjgbnYv"
      },
      "execution_count": null,
      "outputs": []
    },
    {
      "cell_type": "code",
      "source": [
        "!zip -r /content/NariaFiles.zip /content/Output/Healthy\n",
        "from google.colab import files\n",
        "files.download(\"/content/NariaFiles.zip\")"
      ],
      "metadata": {
        "id": "O8FL27Uv1kqL"
      },
      "execution_count": null,
      "outputs": []
    },
    {
      "cell_type": "code",
      "source": [
        "import os\n",
        "from os.path import exists, join, basename, splitext\n",
        "\n",
        "def deleteFiles(path):\n",
        "  rawFiles = os.listdir(path)\n",
        "  for file in rawFiles:\n",
        "    os.remove(path + '/' + file)\n",
        "\n",
        "deleteFiles('/content/Input/Healthy')"
      ],
      "metadata": {
        "id": "yCnPgJRK7Fiw"
      },
      "execution_count": null,
      "outputs": []
    },
    {
      "cell_type": "code",
      "source": [
        "import os\n",
        "from os.path import exists, join, basename, splitext\n",
        "\n",
        "\n",
        "def makeFolders():\n",
        "  if not os.path.isdir('/content/Input'):\n",
        "    os.makedirs('/content/Input/Healthy')\n",
        "    os.makedirs('/content/Input/Unhealthy')\n",
        "    os.makedirs('/content/Output/Healthy')\n",
        "    os.makedirs('/content/Output/Unhealthy')"
      ],
      "metadata": {
        "id": "LkkrymXI7ir8"
      },
      "execution_count": 4,
      "outputs": []
    },
    {
      "cell_type": "code",
      "source": [
        "makeFolders()"
      ],
      "metadata": {
        "id": "zyOWzF6w-yVl"
      },
      "execution_count": 3,
      "outputs": []
    }
  ]
}